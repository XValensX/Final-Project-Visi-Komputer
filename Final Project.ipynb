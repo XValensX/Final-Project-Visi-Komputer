{
 "cells": [
  {
   "cell_type": "markdown",
   "metadata": {},
   "source": [
    "# Final Project Visualisasi Data"
   ]
  },
  {
   "cell_type": "markdown",
   "metadata": {},
   "source": [
    "Valens Christian Yosua - 1301213033\n",
    "\n",
    "Jason Hasudungan Sitorus - 1301213074"
   ]
  },
  {
   "cell_type": "code",
   "execution_count": 92,
   "metadata": {},
   "outputs": [
    {
     "name": "stderr",
     "output_type": "stream",
     "text": [
      "YOLOv5  2024-12-28 Python-3.12.4 torch-2.5.0+cpu CPU\n",
      "\n",
      "Fusing layers... \n",
      "YOLOv5s summary: 157 layers, 7015519 parameters, 0 gradients, 15.8 GFLOPs\n",
      "Adding AutoShape... \n"
     ]
    }
   ],
   "source": [
    "import torch\n",
    "import cv2\n",
    "import matplotlib.pyplot as plt\n",
    "from sklearn.metrics import precision_recall_curve, auc\n",
    "import numpy as np\n",
    "import time\n",
    "import os\n",
    "\n",
    "# Load the YOLOv5 model\n",
    "model_path = r\"C:\\Users\\valen\\Downloads\\helmet detection\\yolov5\\runs\\train\\scaled_down_run\\weights\\best.pt\"  # Update with your model path\n",
    "model = torch.hub.load('yolov5', 'custom', path=model_path, source='local')"
   ]
  },
  {
   "cell_type": "code",
   "execution_count": 93,
   "metadata": {},
   "outputs": [],
   "source": [
    "# Example: Load example images and detection results\n",
    "def show_example_detections(image_path, detections):\n",
    "    \"\"\"\n",
    "    Display detection results with bounding boxes.\n",
    "    \n",
    "    :param image_path: Path to the input image.\n",
    "    :param detections: List of detections in format [x1, y1, x2, y2, confidence, class].\n",
    "    \"\"\"\n",
    "    image = cv2.imread(image_path)\n",
    "    for detection in detections:\n",
    "        x1, y1, x2, y2, conf, cls = detection\n",
    "        label = f\"Class {int(cls)}: {conf:.2f}\"\n",
    "        cv2.rectangle(image, (int(x1), int(y1)), (int(x2), int(y2)), (0, 255, 0), 2)\n",
    "        cv2.putText(image, label, (int(x1), int(y1) - 10), cv2.FONT_HERSHEY_SIMPLEX, 0.5, (0, 255, 0), 2)\n",
    "    \n",
    "    # Convert BGR to RGB for matplotlib\n",
    "    image = cv2.cvtColor(image, cv2.COLOR_BGR2RGB)\n",
    "    plt.figure(figsize=(8, 8))\n",
    "    plt.imshow(image)\n",
    "    plt.axis(\"off\")\n",
    "    plt.title(\"Detection Results with Bounding Boxes\")\n",
    "    plt.show()"
   ]
  },
  {
   "cell_type": "code",
   "execution_count": 94,
   "metadata": {},
   "outputs": [],
   "source": [
    "# Precision-recall curve and AUC calculation\n",
    "def precision_recall_analysis(y_true, y_scores):\n",
    "    \"\"\"\n",
    "    Plot precision-recall curve and calculate AUC.\n",
    "    \n",
    "    :param y_true: Ground truth labels.\n",
    "    :param y_scores: Model confidence scores for positive class.\n",
    "    \"\"\"\n",
    "    precision, recall, _ = precision_recall_curve(y_true, y_scores)\n",
    "    pr_auc = auc(recall, precision)\n",
    "    \n",
    "    plt.figure(figsize=(8, 6))\n",
    "    plt.plot(recall, precision, label=f\"PR AUC: {pr_auc:.2f}\")\n",
    "    plt.xlabel(\"Recall\")\n",
    "    plt.ylabel(\"Precision\")\n",
    "    plt.title(\"Precision-Recall Curve\")\n",
    "    plt.legend(loc=\"lower left\")\n",
    "    plt.grid()\n",
    "    plt.show()"
   ]
  },
  {
   "cell_type": "code",
   "execution_count": 95,
   "metadata": {},
   "outputs": [],
   "source": [
    "# Model comparison\n",
    "def compare_models(model_metrics):\n",
    "    \"\"\"\n",
    "    Compare different models based on their metrics.\n",
    "    \n",
    "    :param model_metrics: Dictionary with model names as keys and a tuple of (precision, recall, inference_time) as values.\n",
    "    \"\"\"\n",
    "    df = pd.DataFrame.from_dict(model_metrics, orient='index', columns=[\"Precision\", \"Recall\", \"Inference Time (ms)\"])\n",
    "    ax = df.plot(kind='bar', figsize=(10, 6))\n",
    "    plt.title(\"Model Performance Comparison\")\n",
    "    plt.ylabel(\"Scores / Time\")\n",
    "    plt.xlabel(\"Models\")\n",
    "    plt.xticks(rotation=45)\n",
    "    plt.grid(axis='y')\n",
    "    plt.legend(loc=\"lower right\")\n",
    "    plt.show()"
   ]
  },
  {
   "cell_type": "code",
   "execution_count": 96,
   "metadata": {},
   "outputs": [],
   "source": [
    "# Hyperparameter tuning results visualization\n",
    "def visualize_hyperparameter_tuning(results_file):\n",
    "    \"\"\"\n",
    "    Plot impact of hyperparameter tuning on model accuracy.\n",
    "    \n",
    "    :param results_file: CSV file with hyperparameter tuning results.\n",
    "    \"\"\"\n",
    "    results = pd.read_csv(results_file)\n",
    "    plt.figure(figsize=(10, 6))\n",
    "    for parameter in results.columns[:-1]:\n",
    "        plt.plot(results['Epoch'], results[parameter], label=f\"Parameter: {parameter}\")\n",
    "    plt.title(\"Impact of Hyperparameter Tuning on Model Accuracy\")\n",
    "    plt.xlabel(\"Epoch\")\n",
    "    plt.ylabel(\"Accuracy\")\n",
    "    plt.legend(loc=\"lower right\")\n",
    "    plt.grid()\n",
    "    plt.show()"
   ]
  },
  {
   "cell_type": "code",
   "execution_count": 99,
   "metadata": {},
   "outputs": [],
   "source": [
    "# Main execution\n",
    "if __name__ == \"__main__\":\n",
    "    # Example: Show detection results with bounding boxes\n",
    "    example_image_path = r\"C:\\Users\\valen\\OneDrive\\Gambar\\Berboncengan-Saat-Naik-Motor-Telset.jpg\"\n",
    "    example_detections = [\n",
    "        [50, 50, 200, 200, 0.95, 1],\n",
    "        [220, 80, 350, 300, 0.90, 0]\n",
    "    ]\n",
    "    show_example_detections(example_image_path, example_detections)\n",
    "    \n",
    "    # Example: Precision-recall analysis\n",
    "    y_true = [1, 1, 0, 1, 0, 1, 0, 0, 1, 1]  # Ground truth\n",
    "    y_scores = [0.9, 0.85, 0.2, 0.75, 0.4, 0.9, 0.1, 0.3, 0.88, 0.95]  # Model predictions\n",
    "    precision_recall_analysis(y_true, y_scores)\n",
    "    \n",
    "    # Example: Model performance comparison\n",
    "    model_metrics = {\n",
    "        \"YOLOv5\": (0.95, 0.93, 10),\n",
    "        \"Faster R-CNN\": (0.90, 0.88, 50),\n",
    "        \"SSD\": (0.88, 0.85, 30)\n",
    "    }\n",
    "    compare_models(model_metrics)"
   ]
  }
 ],
 "metadata": {
  "kernelspec": {
   "display_name": "Python 3",
   "language": "python",
   "name": "python3"
  },
  "language_info": {
   "codemirror_mode": {
    "name": "ipython",
    "version": 3
   },
   "file_extension": ".py",
   "mimetype": "text/x-python",
   "name": "python",
   "nbconvert_exporter": "python",
   "pygments_lexer": "ipython3",
   "version": "3.12.4"
  }
 },
 "nbformat": 4,
 "nbformat_minor": 4
}
